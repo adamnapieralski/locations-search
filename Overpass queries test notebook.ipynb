{
 "cells": [
  {
   "cell_type": "code",
   "execution_count": null,
   "metadata": {},
   "outputs": [],
   "source": [
    "import overpass\n",
    "from pprint import pprint\n",
    "\n",
    "api = overpass.API(timeout=600)"
   ]
  },
  {
   "cell_type": "code",
   "execution_count": null,
   "metadata": {},
   "outputs": [],
   "source": [
    "q = [\n",
    "    # supermarkets (around location)\n",
    "    'node[\"shop\"=\"supermarket\"](around:2000.0, 51.782065, 19.459279);',\n",
    "    \n",
    "    # cafes or fast_foods with polish website (around location)\n",
    "    'node[\"amenity\"~\"cafe|fast_food\"][\"website\"~\".pl/$\"](around:2000.0, 51.782065, 19.459279);',\n",
    "    \n",
    "    # banks far away from police (around location)\n",
    "    'nwr[\"amenity\"=\"police\"](around:2000, 51.782065, 19.459279)->.polices;\\\n",
    "    nwr[\"amenity\"=\"bank\"](around:1000, 51.782065, 19.459279)->.banks;\\\n",
    "    nwr.banks(around.polices:1000)->.banksNearPolices;\\\n",
    "    (.banks; - .banksNearPolices;);out;',\n",
    "    \n",
    "    # hotels near lakes (around location)\n",
    "    'nwr[\"tourism\"=\"hotel\"](around:100000, 51.782065, 19.459279)->.hotels;\\\n",
    "    nwr[\"water\"=\"lake\"][\"name\"~\"^Jezioro\"](around:101000, 51.782065, 19.459279)->.lakes;\\\n",
    "    nwr.hotels(around.lakes:1000);out;'\n",
    "]\n",
    "\n",
    "response = api.get(q[1])\n",
    "pprint(response)"
   ]
  }
 ],
 "metadata": {
  "kernelspec": {
   "display_name": "Python 3",
   "language": "python",
   "name": "python3"
  },
  "language_info": {
   "codemirror_mode": {
    "name": "ipython",
    "version": 3
   },
   "file_extension": ".py",
   "mimetype": "text/x-python",
   "name": "python",
   "nbconvert_exporter": "python",
   "pygments_lexer": "ipython3",
   "version": "3.6.10"
  }
 },
 "nbformat": 4,
 "nbformat_minor": 4
}
