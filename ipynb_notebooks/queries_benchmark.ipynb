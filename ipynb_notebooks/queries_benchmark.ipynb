{
 "cells": [
  {
   "cell_type": "code",
   "execution_count": 32,
   "metadata": {},
   "outputs": [],
   "source": [
    "import overpass\n",
    "from pprint import pprint\n",
    "import requests\n",
    "import time\n",
    "from openrouteservice import client\n",
    "\n",
    "try:\n",
    "    import matplotlib.pyplot as plt\n",
    "    plot = True\n",
    "except ImportError:\n",
    "    plot = False\n",
    "\n",
    "ovp_api = overpass.API(timeout=600)\n",
    "key_gen = api_key_generator()\n",
    "        \n",
    "openroute_api_key  = '5b3ce3597851110001cf62480279a95227aa4e5f9ccf7cfa946e69f3'\n",
    "openroute_api_key2 = '5b3ce3597851110001cf62481791fec0246a4ac9badab061925938ea' \n",
    "opr_client = client.Client(key=openroute_api_key)    "
   ]
  },
  {
   "cell_type": "markdown",
   "metadata": {},
   "source": [
    "## Overpass API"
   ]
  },
  {
   "cell_type": "code",
   "execution_count": 16,
   "metadata": {},
   "outputs": [],
   "source": [
    "search_range = [10000, 50000, 100000, 200000]\n",
    "distance_range = [5000, 10000]"
   ]
  },
  {
   "cell_type": "code",
   "execution_count": 17,
   "metadata": {},
   "outputs": [],
   "source": [
    "queries = [\n",
    "    # supermarkets (around location)\n",
    "    'node[\"shop\"=\"supermarket\"](around:2000.0, 51.782065, 19.459279);',\n",
    "    \n",
    "    # cafes or fast_foods with polish website (around location)\n",
    "    'node[\"amenity\"~\"cafe|fast_food\"][\"website\"~\".pl/$\"](around:2000.0, 51.782065, 19.459279);',\n",
    "    \n",
    "    # banks far away from police (around location)\n",
    "    'nwr[\"amenity\"=\"police\"](around:2000, 51.782065, 19.459279)->.polices;\\\n",
    "    nwr[\"amenity\"=\"bank\"](around:1000, 51.782065, 19.459279)->.banks;\\\n",
    "    nwr.banks(around.polices:1000)->.banksNearPolices;\\\n",
    "    (.banks; - .banksNearPolices;);out;',\n",
    "    \n",
    "    # hotels near lakes (around location)\n",
    "    'nwr[\"tourism\"=\"hotel\"](around:100000, 51.782065, 19.459279)->.hotels;\\\n",
    "    nwr[\"water\"=\"lake\"][\"name\"~\"^Jezioro\"](around:101000, 51.782065, 19.459279)->.lakes;\\\n",
    "    nwr.hotels(around.lakes:1000);out;'\n",
    "]"
   ]
  },
  {
   "cell_type": "code",
   "execution_count": 22,
   "metadata": {},
   "outputs": [],
   "source": [
    "def single_benchmark(q):\n",
    "    s = time.time()\n",
    "    response = ovp_api.get(q)\n",
    "    return time.time() - s, len(response['features'])\n",
    "\n",
    "def benchmark_queries(queries, ranges, sleep_time=4):\n",
    "    sleep = sleep_time\n",
    "    attempts = 0\n",
    "    for q, r in zip(queries, ranges):\n",
    "        td = None\n",
    "        while td is None and attempts < 4:\n",
    "            try:\n",
    "                td, items = single_benchmark(q)\n",
    "                sleep = sleep_time\n",
    "                attempts = 0\n",
    "            except:\n",
    "                print('error occured')\n",
    "                sleep *= 2\n",
    "                time.sleep(sleep)\n",
    "                attempts += 1    \n",
    "        \n",
    "        if td is None:\n",
    "            print('Error, to many attempts')\n",
    "            return\n",
    "            \n",
    "        print('range: ', r, ' results: ', items, ' time: ', round(td,2), ' seconds')\n",
    "        time.sleep(sleep)"
   ]
  },
  {
   "cell_type": "markdown",
   "metadata": {},
   "source": [
    "### simple search"
   ]
  },
  {
   "cell_type": "code",
   "execution_count": 23,
   "metadata": {},
   "outputs": [
    {
     "name": "stdout",
     "output_type": "stream",
     "text": [
      "error occured\n",
      "range:  10000  results:  70  time:  0.6  seconds\n",
      "range:  50000  results:  181  time:  1.83  seconds\n",
      "range:  100000  results:  424  time:  2.5  seconds\n",
      "range:  200000  results:  2486  time:  14.42  seconds\n"
     ]
    }
   ],
   "source": [
    "# supermarkets (around location)\n",
    "queries = ['node[\"shop\"=\"supermarket\"](around:{}, 51.782065, 19.459279);'.format(r) for r in search_range]\n",
    "benchmark_queries(queries, search_range)"
   ]
  },
  {
   "cell_type": "code",
   "execution_count": 24,
   "metadata": {},
   "outputs": [
    {
     "name": "stdout",
     "output_type": "stream",
     "text": [
      "range:  10000  results:  16  time:  10.31  seconds\n",
      "range:  50000  results:  20  time:  7.06  seconds\n",
      "error occured\n",
      "range:  100000  results:  29  time:  9.71  seconds\n",
      "range:  200000  results:  324  time:  15.18  seconds\n"
     ]
    }
   ],
   "source": [
    "# cafes or fast_foods with polish website (around location)\n",
    "queries = ['node[\"amenity\"~\"cafe|fast_food\"][\"website\"~\".pl/$\"](around:{}, 51.782065, 19.459279);'.format(r) for r in search_range]\n",
    "benchmark_queries(queries, search_range)"
   ]
  },
  {
   "cell_type": "markdown",
   "metadata": {},
   "source": [
    "### advanced search"
   ]
  },
  {
   "cell_type": "code",
   "execution_count": 27,
   "metadata": {},
   "outputs": [
    {
     "name": "stdout",
     "output_type": "stream",
     "text": [
      "range:  (10000, 5000)  results:  0  time:  5.38  seconds\n",
      "range:  (10000, 10000)  results:  0  time:  3.11  seconds\n",
      "range:  (50000, 5000)  results:  42  time:  3.86  seconds\n",
      "range:  (50000, 10000)  results:  14  time:  3.64  seconds\n",
      "range:  (100000, 5000)  results:  170  time:  6.71  seconds\n",
      "range:  (100000, 10000)  results:  86  time:  9.68  seconds\n",
      "range:  (200000, 5000)  results:  604  time:  57.24  seconds\n",
      "range:  (200000, 10000)  results:  262  time:  46.64  seconds\n"
     ]
    }
   ],
   "source": [
    "# cafes or fast_foods with polish website (around location)\n",
    "queries = ['nwr[\"amenity\"=\"police\"](around:{}, 51.782065, 19.459279)->.polices;\\\n",
    "    nwr[\"amenity\"=\"bank\"](around:{}, 51.782065, 19.459279)->.banks;\\\n",
    "    nwr.banks(around.polices:{})->.banksNearPolices;\\\n",
    "    (.banks; - .banksNearPolices;);out;'.format(r, r, d) for r in search_range for d in distance_range]\n",
    "ranges = [(r,d) for r in search_range for d in distance_range]\n",
    "benchmark_queries(queries, ranges, sleep_time=20)"
   ]
  },
  {
   "cell_type": "code",
   "execution_count": 74,
   "metadata": {},
   "outputs": [
    {
     "data": {
      "text/plain": [
       "(17.870610237121582, 28)"
      ]
     },
     "execution_count": 74,
     "metadata": {},
     "output_type": "execute_result"
    }
   ],
   "source": [
    "# hotels near lakes (around location)    \n",
    "r = 90000\n",
    "# for r >= 100 000 there is some overpass error - corrupted polygon \n",
    "d = 10000\n",
    "query = 'nwr[\"tourism\"=\"hotel\"](around:{}, 51.782065, 19.459279)->.hotels;\\\n",
    "    nwr[\"water\"=\"lake\"][\"name\"~\"^Jezioro\"](around:{}, 51.782065, 19.459279)->.lakes;\\\n",
    "    nwr.hotels(around.lakes:{});out;'.format(r, r, d)\n",
    "single_benchmark(query)"
   ]
  },
  {
   "cell_type": "markdown",
   "metadata": {},
   "source": [
    "## OpenRouteService"
   ]
  },
  {
   "cell_type": "code",
   "execution_count": 69,
   "metadata": {},
   "outputs": [],
   "source": [
    "def openroute_benchmark(params):\n",
    "    s = time.time()\n",
    "    response = opr_client.isochrones(**params)\n",
    "    dt = time.time() - s\n",
    "    points = response['features'][0]['geometry']['coordinates'][0]\n",
    "\n",
    "    print('time ', round(dt,2))\n",
    "\n",
    "    if plot:\n",
    "        plot_points(points)  "
   ]
  },
  {
   "cell_type": "code",
   "execution_count": 66,
   "metadata": {},
   "outputs": [],
   "source": [
    "def plot_points(points):\n",
    "    x = []\n",
    "    y = []\n",
    "    for p in points:\n",
    "        x.append(p[0])\n",
    "        y.append(p[1])\n",
    "    plt.plot(x,y)    "
   ]
  },
  {
   "cell_type": "code",
   "execution_count": 70,
   "metadata": {},
   "outputs": [
    {
     "name": "stdout",
     "output_type": "stream",
     "text": [
      "time  0.28\n"
     ]
    },
    {
     "data": {
      "image/png": "[encoded data removed]",
      "text/plain": [
       "<Figure size 432x288 with 1 Axes>"
      ]
     },
     "metadata": {
      "needs_background": "light"
     },
     "output_type": "display_data"
    }
   ],
   "source": [
    "params = {\n",
    "    'locations': [(19.459279, 51.782065)],\n",
    "    'profile': 'driving-car',\n",
    "    'range_type': 'time',\n",
    "    'range': [10*60],\n",
    "    'smoothing': 1.\n",
    "}\n",
    "\n",
    "openroute_benchmark(params)  "
   ]
  },
  {
   "cell_type": "code",
   "execution_count": 73,
   "metadata": {},
   "outputs": [
    {
     "name": "stdout",
     "output_type": "stream",
     "text": [
      "time  1.65\n"
     ]
    },
    {
     "data": {
      "image/png": "[encoded data removed]",
      "text/plain": [
       "<Figure size 432x288 with 1 Axes>"
      ]
     },
     "metadata": {
      "needs_background": "light"
     },
     "output_type": "display_data"
    }
   ],
   "source": [
    "params = {\n",
    "    'locations': [(19.459279, 51.782065)],\n",
    "    'profile': 'driving-car',\n",
    "    'range_type': 'time',\n",
    "    'range': [60*60],\n",
    "    'smoothing': 1.\n",
    "}\n",
    "\n",
    "openroute_benchmark(params)  "
   ]
  },
  {
   "cell_type": "code",
   "execution_count": 71,
   "metadata": {},
   "outputs": [
    {
     "name": "stdout",
     "output_type": "stream",
     "text": [
      "time  0.1\n"
     ]
    },
    {
     "data": {
      "image/png": "[encoded data removed]",
      "text/plain": [
       "<Figure size 432x288 with 1 Axes>"
      ]
     },
     "metadata": {
      "needs_background": "light"
     },
     "output_type": "display_data"
    }
   ],
   "source": [
    "params = {\n",
    "    'locations': [(19.459279, 51.782065)],\n",
    "    'profile': 'foot-walking',\n",
    "    'range_type': 'time',\n",
    "    'range': [5*60],\n",
    "    'smoothing': 0.75\n",
    "}\n",
    "openroute_benchmark(params)"
   ]
  },
  {
   "cell_type": "code",
   "execution_count": 54,
   "metadata": {},
   "outputs": [
    {
     "name": "stdout",
     "output_type": "stream",
     "text": [
      "(poly:\"51.781136 19.453986 51.781119 19.453991 51.779415 19.455125 51.778876 19.457105 51.778936 19.461211 51.779075 19.461775 51.779512 19.462681 51.779802 19.46291 51.78118 19.463728 51.781669 19.463749 51.782006 19.463623 51.784589 19.46124 51.784791 19.460546 51.785312 19.458504 51.785308 19.458335 51.785104 19.457738 51.78435 19.456605 51.784042 19.456262 51.783315 19.455689 51.781343 19.454086 51.781136 19.453986\")\n",
      "(around:100,51.781136,19.453986,51.781119,19.453991,51.779415,19.455125,51.778876,19.457105,51.778936,19.461211,51.779075,19.461775,51.779512,19.462681,51.779802,19.46291,51.78118,19.463728,51.781669,19.463749,51.782006,19.463623,51.784589,19.46124,51.784791,19.460546,51.785312,19.458504,51.785308,19.458335,51.785104,19.457738,51.78435,19.456605,51.784042,19.456262,51.783315,19.455689,51.781343,19.454086,51.781136,19.453986)\n"
     ]
    }
   ],
   "source": [
    "def makePolyStr(opr_coords):\n",
    "    coord_str = '\"'\n",
    "    for coord in opr_coords:\n",
    "        coord_str += str(coord[1]) + ' ' + str(coord[0]) + ' '\n",
    "    coord_str = coord_str.rstrip(' ')\n",
    "    coord_str += '\"'\n",
    "    return '(poly:{})'.format(coord_str)\n",
    "\n",
    "def makeAroundLineStr(around_dist_m, opr_coords):\n",
    "    coord_str = ''\n",
    "    for coord in opr_coords:\n",
    "        coord_str += ',' + str(coord[1]) + ',' + str(coord[0])\n",
    "    return '(around:{}{})'.format(around_dist_m, coord_str)\n",
    "\n",
    "print(makePolyStr(resp2['features'][0]['geometry']['coordinates'][0]))\n",
    "print(makeAroundLineStr(100, resp2['features'][0]['geometry']['coordinates'][0]))"
   ]
  },
  {
   "cell_type": "code",
   "execution_count": 58,
   "metadata": {},
   "outputs": [
    {
     "name": "stdout",
     "output_type": "stream",
     "text": [
      "(nwr[\"shop\"=\"convenience\"](poly:\"51.781136 19.453986 51.781119 19.453991 51.779415 19.455125 51.778876 19.457105 51.778936 19.461211 51.779075 19.461775 51.779512 19.462681 51.779802 19.46291 51.78118 19.463728 51.781669 19.463749 51.782006 19.463623 51.784589 19.46124 51.784791 19.460546 51.785312 19.458504 51.785308 19.458335 51.785104 19.457738 51.78435 19.456605 51.784042 19.456262 51.783315 19.455689 51.781343 19.454086 51.781136 19.453986\");nwr[\"shop\"=\"convenience\"](around:100,51.781136,19.453986,51.781119,19.453991,51.779415,19.455125,51.778876,19.457105,51.778936,19.461211,51.779075,19.461775,51.779512,19.462681,51.779802,19.46291,51.78118,19.463728,51.781669,19.463749,51.782006,19.463623,51.784589,19.46124,51.784791,19.460546,51.785312,19.458504,51.785308,19.458335,51.785104,19.457738,51.78435,19.456605,51.784042,19.456262,51.783315,19.455689,51.781343,19.454086,51.781136,19.453986);)->.shops;nwr[\"tourism\"=\"apartment\"](poly:\"51.781136 19.453986 51.781119 19.453991 51.779415 19.455125 51.778876 19.457105 51.778936 19.461211 51.779075 19.461775 51.779512 19.462681 51.779802 19.46291 51.78118 19.463728 51.781669 19.463749 51.782006 19.463623 51.784589 19.46124 51.784791 19.460546 51.785312 19.458504 51.785308 19.458335 51.785104 19.457738 51.78435 19.456605 51.784042 19.456262 51.783315 19.455689 51.781343 19.454086 51.781136 19.453986\")->.apartments;nwr.apartments(around.shops:100);out;\n",
      "{'features': [{'geometry': {'coordinates': [19.458745, 51.782132],\n",
      "                            'type': 'Point'},\n",
      "               'id': 2607456508,\n",
      "               'properties': {'addr:city': 'Łódź',\n",
      "                              'addr:housenumber': '7',\n",
      "                              'addr:postcode': '91-430',\n",
      "                              'addr:street': 'Hermana Konstadta',\n",
      "                              'beds': '4',\n",
      "                              'breakfast': 'no',\n",
      "                              'internet_access': 'wlan',\n",
      "                              'name': 'Apartament Nykiel',\n",
      "                              'phone': '+48 602\\xa0670\\xa0827',\n",
      "                              'rooms': '2',\n",
      "                              'tourism': 'apartment',\n",
      "                              'wheelchair': 'no'},\n",
      "               'type': 'Feature'},\n",
      "              {'geometry': {'coordinates': [19.458745, 51.782132],\n",
      "                            'type': 'Point'},\n",
      "               'id': 2607456508,\n",
      "               'properties': {'addr:city': 'Łódź',\n",
      "                              'addr:housenumber': '7',\n",
      "                              'addr:postcode': '91-430',\n",
      "                              'addr:street': 'Hermana Konstadta',\n",
      "                              'beds': '4',\n",
      "                              'breakfast': 'no',\n",
      "                              'internet_access': 'wlan',\n",
      "                              'name': 'Apartament Nykiel',\n",
      "                              'phone': '+48 602\\xa0670\\xa0827',\n",
      "                              'rooms': '2',\n",
      "                              'tourism': 'apartment',\n",
      "                              'wheelchair': 'no'},\n",
      "               'type': 'Feature'}],\n",
      " 'type': 'FeatureCollection'}\n"
     ]
    }
   ],
   "source": [
    "opr_coords = resp2['features'][0]['geometry']['coordinates'][0]\n",
    "dist_m = 100\n",
    "ovp_query_1 = '(nwr[\"shop\"=\"convenience\"]{};\\\n",
    "nwr[\"shop\"=\"convenience\"]{};)->.shops;\\\n",
    "nwr[\"tourism\"=\"apartment\"]{}->.apartments;\\\n",
    "nwr.apartments(around.shops:{});\\\n",
    "out;'.format(makePolyStr(opr_coords), makeAroundLineStr(dist_m, opr_coords), makePolyStr(opr_coords), dist_m)\n",
    "print(ovp_query_1)\n",
    "ovp_resp_1 = ovp_api.get(ovp_query_1)\n",
    "pprint(ovp_resp_1)"
   ]
  },
  {
   "cell_type": "markdown",
   "metadata": {},
   "source": [
    "## TagInfo API"
   ]
  },
  {
   "cell_type": "code",
   "execution_count": 75,
   "metadata": {},
   "outputs": [
    {
     "name": "stdout",
     "output_type": "stream",
     "text": [
      "['parking',\n",
      " 'bench',\n",
      " 'place_of_worship',\n",
      " 'restaurant',\n",
      " 'school',\n",
      " 'parking_space',\n",
      " 'fuel',\n",
      " 'waste_basket',\n",
      " 'cafe',\n",
      " 'fast_food',\n",
      " 'bank',\n",
      " 'bicycle_parking',\n",
      " 'shelter',\n",
      " 'toilets',\n",
      " 'pharmacy',\n",
      " 'post_box',\n",
      " 'recycling',\n",
      " 'kindergarten',\n",
      " 'drinking_water',\n",
      " 'hospital',\n",
      " 'bar',\n",
      " 'atm',\n",
      " 'grave_yard',\n",
      " 'post_office',\n",
      " 'pub',\n",
      " 'vending_machine',\n",
      " 'hunting_stand',\n",
      " 'clinic',\n",
      " 'police',\n",
      " 'doctors']\n"
     ]
    }
   ],
   "source": [
    "payload = {\n",
    "    'key': 'amenity',\n",
    "    'page': 1,\n",
    "    'rp': 30,\n",
    "    'sortname': 'count_all',\n",
    "    'sortorder': 'desc'    \n",
    "}\n",
    "\n",
    "r = requests.get('https://taginfo.openstreetmap.org/api/4/key/values', payload)\n",
    "vals = [e['value'] for e in r.json()['data']]\n",
    "pprint(vals)"
   ]
  },
  {
   "cell_type": "code",
   "execution_count": null,
   "metadata": {},
   "outputs": [],
   "source": []
  }
 ],
 "metadata": {
  "kernelspec": {
   "display_name": "Python 3",
   "language": "python",
   "name": "python3"
  },
  "language_info": {
   "codemirror_mode": {
    "name": "ipython",
    "version": 3
   },
   "file_extension": ".py",
   "mimetype": "text/x-python",
   "name": "python",
   "nbconvert_exporter": "python",
   "pygments_lexer": "ipython3",
   "version": "3.9.0"
  }
 },
 "nbformat": 4,
 "nbformat_minor": 4
}
