{
 "cells": [
  {
   "cell_type": "code",
   "execution_count": 3,
   "metadata": {},
   "outputs": [],
   "source": [
    "import overpass\n",
    "from pprint import pprint\n",
    "import requests\n",
    "\n",
    "api = overpass.API(timeout=600)"
   ]
  },
  {
   "cell_type": "markdown",
   "metadata": {},
   "source": [
    "## Overpass API"
   ]
  },
  {
   "cell_type": "code",
   "execution_count": null,
   "metadata": {},
   "outputs": [],
   "source": [
    "q = [\n",
    "    # supermarkets (around location)\n",
    "    'node[\"shop\"=\"supermarket\"](around:2000.0, 51.782065, 19.459279);',\n",
    "    \n",
    "    # cafes or fast_foods with polish website (around location)\n",
    "    'node[\"amenity\"~\"cafe|fast_food\"][\"website\"~\".pl/$\"](around:2000.0, 51.782065, 19.459279);',\n",
    "    \n",
    "    # banks far away from police (around location)\n",
    "    'nwr[\"amenity\"=\"police\"](around:2000, 51.782065, 19.459279)->.polices;\\\n",
    "    nwr[\"amenity\"=\"bank\"](around:1000, 51.782065, 19.459279)->.banks;\\\n",
    "    nwr.banks(around.polices:1000)->.banksNearPolices;\\\n",
    "    (.banks; - .banksNearPolices;);out;',\n",
    "    \n",
    "    # hotels near lakes (around location)\n",
    "    'nwr[\"tourism\"=\"hotel\"](around:100000, 51.782065, 19.459279)->.hotels;\\\n",
    "    nwr[\"water\"=\"lake\"][\"name\"~\"^Jezioro\"](around:101000, 51.782065, 19.459279)->.lakes;\\\n",
    "    nwr.hotels(around.lakes:1000);out;'\n",
    "]\n",
    "\n",
    "response = api.get(q[1])\n",
    "pprint(response)"
   ]
  },
  {
   "cell_type": "markdown",
   "metadata": {},
   "source": [
    "## TagInfo API"
   ]
  },
  {
   "cell_type": "code",
   "execution_count": 16,
   "metadata": {},
   "outputs": [
    {
     "name": "stdout",
     "output_type": "stream",
     "text": [
      "['parking',\n",
      " 'bench',\n",
      " 'place_of_worship',\n",
      " 'restaurant',\n",
      " 'school',\n",
      " 'parking_space',\n",
      " 'fuel',\n",
      " 'cafe',\n",
      " 'waste_basket',\n",
      " 'fast_food',\n",
      " 'bank',\n",
      " 'bicycle_parking',\n",
      " 'shelter',\n",
      " 'toilets',\n",
      " 'pharmacy',\n",
      " 'post_box',\n",
      " 'recycling',\n",
      " 'kindergarten',\n",
      " 'drinking_water',\n",
      " 'hospital',\n",
      " 'bar',\n",
      " 'atm',\n",
      " 'grave_yard',\n",
      " 'post_office',\n",
      " 'pub',\n",
      " 'vending_machine',\n",
      " 'hunting_stand',\n",
      " 'clinic',\n",
      " 'police',\n",
      " 'doctors']\n"
     ]
    }
   ],
   "source": [
    "payload = {\n",
    "    'key': 'amenity',\n",
    "    'page': 1,\n",
    "    'rp': 30,\n",
    "    'sortname': 'count_all',\n",
    "    'sortorder': 'desc'    \n",
    "}\n",
    "\n",
    "r = requests.get('https://taginfo.openstreetmap.org/api/4/key/values', payload)\n",
    "vals = [e['value'] for e in r.json()['data']]\n",
    "pprint(vals)"
   ]
  },
  {
   "cell_type": "code",
   "execution_count": null,
   "metadata": {},
   "outputs": [],
   "source": []
  }
 ],
 "metadata": {
  "kernelspec": {
   "display_name": "Python 3",
   "language": "python",
   "name": "python3"
  },
  "language_info": {
   "codemirror_mode": {
    "name": "ipython",
    "version": 3
   },
   "file_extension": ".py",
   "mimetype": "text/x-python",
   "name": "python",
   "nbconvert_exporter": "python",
   "pygments_lexer": "ipython3",
   "version": "3.6.10"
  }
 },
 "nbformat": 4,
 "nbformat_minor": 4
}
