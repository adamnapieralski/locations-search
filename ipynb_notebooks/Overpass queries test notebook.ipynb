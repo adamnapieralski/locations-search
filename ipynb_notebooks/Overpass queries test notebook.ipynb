{
 "cells": [
  {
   "cell_type": "code",
   "execution_count": 2,
   "metadata": {},
   "outputs": [],
   "source": [
    "import overpass\n",
    "from pprint import pprint\n",
    "import requests\n",
    "from openrouteservice import client\n",
    "\n",
    "ovp_api = overpass.API(timeout=600)\n",
    "openroute_api_key = '5b3ce3597851110001cf62480279a95227aa4e5f9ccf7cfa946e69f3'\n",
    "opr_client = client.Client(key=openroute_api_key) "
   ]
  },
  {
   "cell_type": "markdown",
   "metadata": {},
   "source": [
    "## Overpass API"
   ]
  },
  {
   "cell_type": "code",
   "execution_count": null,
   "metadata": {},
   "outputs": [],
   "source": [
    "q = [\n",
    "    # supermarkets (around location)\n",
    "    'node[\"shop\"=\"supermarket\"](around:2000.0, 51.782065, 19.459279);',\n",
    "    \n",
    "    # cafes or fast_foods with polish website (around location)\n",
    "    'node[\"amenity\"~\"cafe|fast_food\"][\"website\"~\".pl/$\"](around:2000.0, 51.782065, 19.459279);',\n",
    "    \n",
    "    # banks far away from police (around location)\n",
    "    'nwr[\"amenity\"=\"police\"](around:2000, 51.782065, 19.459279)->.polices;\\\n",
    "    nwr[\"amenity\"=\"bank\"](around:1000, 51.782065, 19.459279)->.banks;\\\n",
    "    nwr.banks(around.polices:1000)->.banksNearPolices;\\\n",
    "    (.banks; - .banksNearPolices;);out;',\n",
    "    \n",
    "    # hotels near lakes (around location)\n",
    "    'nwr[\"tourism\"=\"hotel\"](around:100000, 51.782065, 19.459279)->.hotels;\\\n",
    "    nwr[\"water\"=\"lake\"][\"name\"~\"^Jezioro\"](around:101000, 51.782065, 19.459279)->.lakes;\\\n",
    "    nwr.hotels(around.lakes:1000);out;'\n",
    "]\n",
    "\n",
    "response = ovp_api.get(q[1])\n",
    "pprint(response)"
   ]
  },
  {
   "cell_type": "markdown",
   "metadata": {},
   "source": [
    "## OpenRouteService"
   ]
  },
  {
   "cell_type": "code",
   "execution_count": 34,
   "metadata": {},
   "outputs": [],
   "source": [
    "params = {\n",
    "    'locations': [(19.459279, 51.782065)],\n",
    "    'profile': 'driving-car',\n",
    "    'range_type': 'time',\n",
    "    'range': [10*60],\n",
    "    'smoothing': 1.\n",
    "}\n",
    "resp1 = opr_client.isochrones(**params)\n"
   ]
  },
  {
   "cell_type": "code",
   "execution_count": 30,
   "metadata": {},
   "outputs": [],
   "source": [
    "params = {\n",
    "    'locations': [(19.459279, 51.782065)],\n",
    "    'profile': 'foot-walking',\n",
    "    'range_type': 'time',\n",
    "    'range': [5*60],\n",
    "    'smoothing': 0.75\n",
    "}\n",
    "resp2 = opr_client.isochrones(**params)"
   ]
  },
  {
   "cell_type": "code",
   "execution_count": 31,
   "metadata": {},
   "outputs": [
    {
     "name": "stdout",
     "output_type": "stream",
     "text": [
      "{'bbox': [19.453986, 51.778876, 19.463749, 51.785312],\n",
      " 'features': [{'geometry': {'coordinates': [[[19.453986, 51.781136],\n",
      "                                             [19.453991, 51.781119],\n",
      "                                             [19.455125, 51.779415],\n",
      "                                             [19.457105, 51.778876],\n",
      "                                             [19.461211, 51.778936],\n",
      "                                             [19.461775, 51.779075],\n",
      "                                             [19.462681, 51.779512],\n",
      "                                             [19.46291, 51.779802],\n",
      "                                             [19.463728, 51.78118],\n",
      "                                             [19.463749, 51.781669],\n",
      "                                             [19.463623, 51.782006],\n",
      "                                             [19.46124, 51.784589],\n",
      "                                             [19.460546, 51.784791],\n",
      "                                             [19.458504, 51.785312],\n",
      "                                             [19.458335, 51.785308],\n",
      "                                             [19.457738, 51.785104],\n",
      "                                             [19.456605, 51.78435],\n",
      "                                             [19.456262, 51.784042],\n",
      "                                             [19.455689, 51.783315],\n",
      "                                             [19.454086, 51.781343],\n",
      "                                             [19.453986, 51.781136]]],\n",
      "                            'type': 'Polygon'},\n",
      "               'properties': {'center': [19.45913597957841, 51.78205467139962],\n",
      "                              'group_index': 0,\n",
      "                              'value': 300.0},\n",
      "               'type': 'Feature'}],\n",
      " 'metadata': {'attribution': 'openrouteservice.org | OpenStreetMap '\n",
      "                             'contributors',\n",
      "              'engine': {'build_date': '2020-09-21T01:00:26Z',\n",
      "                         'graph_date': '2020-11-16T14:59:42Z',\n",
      "                         'version': '6.3.0'},\n",
      "              'query': {'locations': [[19.459279, 51.782065]],\n",
      "                        'range': [300.0],\n",
      "                        'range_type': 'time',\n",
      "                        'smoothing': 0.75},\n",
      "              'service': 'isochrones',\n",
      "              'timestamp': 1606149956020},\n",
      " 'type': 'FeatureCollection'}\n"
     ]
    }
   ],
   "source": [
    "pprint(resp2)"
   ]
  },
  {
   "cell_type": "code",
   "execution_count": 54,
   "metadata": {},
   "outputs": [
    {
     "name": "stdout",
     "output_type": "stream",
     "text": [
      "(poly:\"51.781136 19.453986 51.781119 19.453991 51.779415 19.455125 51.778876 19.457105 51.778936 19.461211 51.779075 19.461775 51.779512 19.462681 51.779802 19.46291 51.78118 19.463728 51.781669 19.463749 51.782006 19.463623 51.784589 19.46124 51.784791 19.460546 51.785312 19.458504 51.785308 19.458335 51.785104 19.457738 51.78435 19.456605 51.784042 19.456262 51.783315 19.455689 51.781343 19.454086 51.781136 19.453986\")\n",
      "(around:100,51.781136,19.453986,51.781119,19.453991,51.779415,19.455125,51.778876,19.457105,51.778936,19.461211,51.779075,19.461775,51.779512,19.462681,51.779802,19.46291,51.78118,19.463728,51.781669,19.463749,51.782006,19.463623,51.784589,19.46124,51.784791,19.460546,51.785312,19.458504,51.785308,19.458335,51.785104,19.457738,51.78435,19.456605,51.784042,19.456262,51.783315,19.455689,51.781343,19.454086,51.781136,19.453986)\n"
     ]
    }
   ],
   "source": [
    "def makePolyStr(opr_coords):\n",
    "    coord_str = '\"'\n",
    "    for coord in opr_coords:\n",
    "        coord_str += str(coord[1]) + ' ' + str(coord[0]) + ' '\n",
    "    coord_str = coord_str.rstrip(' ')\n",
    "    coord_str += '\"'\n",
    "    return '(poly:{})'.format(coord_str)\n",
    "\n",
    "def makeAroundLineStr(around_dist_m, opr_coords):\n",
    "    coord_str = ''\n",
    "    for coord in opr_coords:\n",
    "        coord_str += ',' + str(coord[1]) + ',' + str(coord[0])\n",
    "    return '(around:{}{})'.format(around_dist_m, coord_str)\n",
    "\n",
    "print(makePolyStr(resp2['features'][0]['geometry']['coordinates'][0]))\n",
    "print(makeAroundLineStr(100, resp2['features'][0]['geometry']['coordinates'][0]))"
   ]
  },
  {
   "cell_type": "code",
   "execution_count": 58,
   "metadata": {},
   "outputs": [
    {
     "name": "stdout",
     "output_type": "stream",
     "text": [
      "(nwr[\"shop\"=\"convenience\"](poly:\"51.781136 19.453986 51.781119 19.453991 51.779415 19.455125 51.778876 19.457105 51.778936 19.461211 51.779075 19.461775 51.779512 19.462681 51.779802 19.46291 51.78118 19.463728 51.781669 19.463749 51.782006 19.463623 51.784589 19.46124 51.784791 19.460546 51.785312 19.458504 51.785308 19.458335 51.785104 19.457738 51.78435 19.456605 51.784042 19.456262 51.783315 19.455689 51.781343 19.454086 51.781136 19.453986\");nwr[\"shop\"=\"convenience\"](around:100,51.781136,19.453986,51.781119,19.453991,51.779415,19.455125,51.778876,19.457105,51.778936,19.461211,51.779075,19.461775,51.779512,19.462681,51.779802,19.46291,51.78118,19.463728,51.781669,19.463749,51.782006,19.463623,51.784589,19.46124,51.784791,19.460546,51.785312,19.458504,51.785308,19.458335,51.785104,19.457738,51.78435,19.456605,51.784042,19.456262,51.783315,19.455689,51.781343,19.454086,51.781136,19.453986);)->.shops;nwr[\"tourism\"=\"apartment\"](poly:\"51.781136 19.453986 51.781119 19.453991 51.779415 19.455125 51.778876 19.457105 51.778936 19.461211 51.779075 19.461775 51.779512 19.462681 51.779802 19.46291 51.78118 19.463728 51.781669 19.463749 51.782006 19.463623 51.784589 19.46124 51.784791 19.460546 51.785312 19.458504 51.785308 19.458335 51.785104 19.457738 51.78435 19.456605 51.784042 19.456262 51.783315 19.455689 51.781343 19.454086 51.781136 19.453986\")->.apartments;nwr.apartments(around.shops:100);out;\n",
      "{'features': [{'geometry': {'coordinates': [19.458745, 51.782132],\n",
      "                            'type': 'Point'},\n",
      "               'id': 2607456508,\n",
      "               'properties': {'addr:city': 'Łódź',\n",
      "                              'addr:housenumber': '7',\n",
      "                              'addr:postcode': '91-430',\n",
      "                              'addr:street': 'Hermana Konstadta',\n",
      "                              'beds': '4',\n",
      "                              'breakfast': 'no',\n",
      "                              'internet_access': 'wlan',\n",
      "                              'name': 'Apartament Nykiel',\n",
      "                              'phone': '+48 602\\xa0670\\xa0827',\n",
      "                              'rooms': '2',\n",
      "                              'tourism': 'apartment',\n",
      "                              'wheelchair': 'no'},\n",
      "               'type': 'Feature'},\n",
      "              {'geometry': {'coordinates': [19.458745, 51.782132],\n",
      "                            'type': 'Point'},\n",
      "               'id': 2607456508,\n",
      "               'properties': {'addr:city': 'Łódź',\n",
      "                              'addr:housenumber': '7',\n",
      "                              'addr:postcode': '91-430',\n",
      "                              'addr:street': 'Hermana Konstadta',\n",
      "                              'beds': '4',\n",
      "                              'breakfast': 'no',\n",
      "                              'internet_access': 'wlan',\n",
      "                              'name': 'Apartament Nykiel',\n",
      "                              'phone': '+48 602\\xa0670\\xa0827',\n",
      "                              'rooms': '2',\n",
      "                              'tourism': 'apartment',\n",
      "                              'wheelchair': 'no'},\n",
      "               'type': 'Feature'}],\n",
      " 'type': 'FeatureCollection'}\n"
     ]
    }
   ],
   "source": [
    "opr_coords = resp2['features'][0]['geometry']['coordinates'][0]\n",
    "dist_m = 100\n",
    "ovp_query_1 = '(nwr[\"shop\"=\"convenience\"]{};\\\n",
    "nwr[\"shop\"=\"convenience\"]{};)->.shops;\\\n",
    "nwr[\"tourism\"=\"apartment\"]{}->.apartments;\\\n",
    "nwr.apartments(around.shops:{});\\\n",
    "out;'.format(makePolyStr(opr_coords), makeAroundLineStr(dist_m, opr_coords), makePolyStr(opr_coords), dist_m)\n",
    "print(ovp_query_1)\n",
    "ovp_resp_1 = ovp_api.get(ovp_query_1)\n",
    "pprint(ovp_resp_1)"
   ]
  },
  {
   "cell_type": "markdown",
   "metadata": {},
   "source": [
    "## TagInfo API"
   ]
  },
  {
   "cell_type": "code",
   "execution_count": 16,
   "metadata": {},
   "outputs": [
    {
     "name": "stdout",
     "output_type": "stream",
     "text": [
      "['parking',\n",
      " 'bench',\n",
      " 'place_of_worship',\n",
      " 'restaurant',\n",
      " 'school',\n",
      " 'parking_space',\n",
      " 'fuel',\n",
      " 'cafe',\n",
      " 'waste_basket',\n",
      " 'fast_food',\n",
      " 'bank',\n",
      " 'bicycle_parking',\n",
      " 'shelter',\n",
      " 'toilets',\n",
      " 'pharmacy',\n",
      " 'post_box',\n",
      " 'recycling',\n",
      " 'kindergarten',\n",
      " 'drinking_water',\n",
      " 'hospital',\n",
      " 'bar',\n",
      " 'atm',\n",
      " 'grave_yard',\n",
      " 'post_office',\n",
      " 'pub',\n",
      " 'vending_machine',\n",
      " 'hunting_stand',\n",
      " 'clinic',\n",
      " 'police',\n",
      " 'doctors']\n"
     ]
    }
   ],
   "source": [
    "payload = {\n",
    "    'key': 'amenity',\n",
    "    'page': 1,\n",
    "    'rp': 30,\n",
    "    'sortname': 'count_all',\n",
    "    'sortorder': 'desc'    \n",
    "}\n",
    "\n",
    "r = requests.get('https://taginfo.openstreetmap.org/api/4/key/values', payload)\n",
    "vals = [e['value'] for e in r.json()['data']]\n",
    "pprint(vals)"
   ]
  },
  {
   "cell_type": "code",
   "execution_count": null,
   "metadata": {},
   "outputs": [],
   "source": []
  }
 ],
 "metadata": {
  "kernelspec": {
   "display_name": "Python 3",
   "language": "python",
   "name": "python3"
  },
  "language_info": {
   "codemirror_mode": {
    "name": "ipython",
    "version": 3
   },
   "file_extension": ".py",
   "mimetype": "text/x-python",
   "name": "python",
   "nbconvert_exporter": "python",
   "pygments_lexer": "ipython3",
   "version": "3.6.10"
  }
 },
 "nbformat": 4,
 "nbformat_minor": 4
}
